{
 "cells": [
  {
   "cell_type": "markdown",
   "id": "2cdd25bf-dd1b-4429-9ada-509e4f026292",
   "metadata": {},
   "source": [
    "# Helper Functions"
   ]
  },
  {
   "cell_type": "markdown",
   "id": "381d793d-50bb-4fd2-a58d-d5c8c6e10bd4",
   "metadata": {},
   "source": [
    "## Elbow Curve"
   ]
  },
  {
   "cell_type": "code",
   "execution_count": 1,
   "id": "c9154107-fdc0-4e7f-92f2-4da33eef8228",
   "metadata": {},
   "outputs": [],
   "source": [
    "def elbow_curve(max_k, df_to_fit):\n",
    "    \"\"\"\n",
    "    Function to find the best k-value using the elbow method.\n",
    "    \n",
    "    Arguments:\n",
    "    max_k        -- maximum k-value to calculate and plot\n",
    "    df_to_fit    -- DataFrame to fit the model\n",
    "    \n",
    "    Returns:\n",
    "    A DataFrame with the data to plot the elbow curve\n",
    "    \"\"\"\n",
    "    \n",
    "    # Create a list with the number of k-values from 1 to 'max_k'\n",
    "    k_values = list(range(1, max_k))\n",
    "    \n",
    "    # Create an empty list to store the inertia values\n",
    "    inertia = []\n",
    "    \n",
    "    # Create a for loop to compute the inertia with each possible value of k\n",
    "    for i in k_values:\n",
    "        # Create a KMeans model using the loop counter for the n_clusters\n",
    "        kmeans_model = KMeans(n_clusters=i, n_init=\"auto\")\n",
    "        \n",
    "        # Fit the model to the data using 'df_to_fit'\n",
    "        kmeans_model.fit(df_to_fit)\n",
    "        \n",
    "        # Append the model.inertia_ to the inertia list\n",
    "        inertia.append(kmeans_model.inertia_)\n",
    "    \n",
    "    # Create a dictionary with the data to plot the Elbow curve\n",
    "    elbow_dict = {\n",
    "        \"k\": k_values,\n",
    "        \"inertia\": inertia\n",
    "    }\n",
    "\n",
    "    # Create a DataFrame with the data to plot the Elbow curve\n",
    "    elbow_data = pd.DataFrame(elbow_dict)\n",
    "    \n",
    "    return(elbow_data)"
   ]
  },
  {
   "cell_type": "markdown",
   "id": "0d591efb-8e98-4069-9d7c-f6492e6c11c1",
   "metadata": {},
   "source": [
    "## K-Means Clustering"
   ]
  },
  {
   "cell_type": "code",
   "execution_count": 2,
   "id": "15da6545-da2b-40e2-8ede-881dab74081f",
   "metadata": {},
   "outputs": [],
   "source": [
    "def kmeans_cluster(n_clusters, df_to_fit):\n",
    "    \"\"\"\n",
    "    Function to find the clusters using K-Means.\n",
    "    \n",
    "    Arguments:\n",
    "    n_clusters    -- the number of clusters\n",
    "    df_to_fit     -- DataFrame to fit the model\n",
    "    \n",
    "    Returns:\n",
    "    A DataFrame with the CryptoClusters column\n",
    "    \"\"\"\n",
    "    \n",
    "    # Initialise the K-Means model using the best value for k\n",
    "    kmeans_model = KMeans(n_clusters=n_clusters, n_init=\"auto\")\n",
    "    \n",
    "    # Fit the K-Means model using the 'df_to_fit'\n",
    "    kmeans_model.fit(df_to_fit)\n",
    "    \n",
    "    # Predict the clusters to group the cryptocurrencies\n",
    "    crypto_clusters = kmeans_model.predict(df_to_fit)\n",
    "    \n",
    "    # Print the resulting array of cluster values\n",
    "    print(f\"Cluster values: {crypto_clusters}\")\n",
    "    \n",
    "    # Create a copy of the DataFrame\n",
    "    df_copy = df_to_fit.copy()\n",
    "    \n",
    "    # Add a new column to the DataFrame with the predicted clusters\n",
    "    df_copy['CryptoClusters'] = crypto_clusters\n",
    "    \n",
    "    return(df_copy)"
   ]
  }
 ],
 "metadata": {
  "kernelspec": {
   "display_name": "dev",
   "language": "python",
   "name": "dev"
  },
  "language_info": {
   "codemirror_mode": {
    "name": "ipython",
    "version": 3
   },
   "file_extension": ".py",
   "mimetype": "text/x-python",
   "name": "python",
   "nbconvert_exporter": "python",
   "pygments_lexer": "ipython3",
   "version": "3.10.13"
  }
 },
 "nbformat": 4,
 "nbformat_minor": 5
}
